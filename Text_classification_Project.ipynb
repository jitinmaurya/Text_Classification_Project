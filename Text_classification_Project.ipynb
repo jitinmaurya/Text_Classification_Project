{
 "cells": [
  {
   "cell_type": "markdown",
   "id": "d4fa2c72",
   "metadata": {},
   "source": [
    "## Problem Statement\n",
    "\n",
    "Given the dataset of product reviews and recommendation status, we can build a text classification model that can correctly identify the users who will recommend the product in the future. "
   ]
  },
  {
   "cell_type": "markdown",
   "id": "70ffdd10",
   "metadata": {},
   "source": [
    "**Review:** Customer review for the product\n",
    "\n",
    "**Recommendation:** Customer's recommendation for the product "
   ]
  },
  {
   "cell_type": "markdown",
   "id": "5f017599",
   "metadata": {},
   "source": [
    "## Table of Content\n",
    "\n",
    "1. **[Import Libraries](#lib)**\n",
    "2. **[Load the Data](#data)**\n",
    "3. **[Data Exploration](#eda)**\n",
    "4. **[Data Preperation](#prep)**\n",
    "5. **[Data Split](#split)**\n",
    "6. **[Machine Learning Modeling](#model)**\n",
    "    - 6.1 - **[Count vectorizer](#cv)**\n",
    "    - 6.2 - **[TF-IDF](#tfidf)**\n"
   ]
  },
  {
   "cell_type": "markdown",
   "id": "aa510728",
   "metadata": {},
   "source": [
    "<a id=\"lib\"></a>\n",
    "### Step 1 : Load required libraries "
   ]
  },
  {
   "cell_type": "code",
   "execution_count": 5,
   "id": "e6680703",
   "metadata": {
    "scrolled": true
   },
   "outputs": [
    {
     "name": "stderr",
     "output_type": "stream",
     "text": [
      "[nltk_data] Downloading package stopwords to\n",
      "[nltk_data]     C:\\Users\\HP\\AppData\\Roaming\\nltk_data...\n",
      "[nltk_data]   Package stopwords is already up-to-date!\n",
      "[nltk_data] Downloading package punkt to\n",
      "[nltk_data]     C:\\Users\\HP\\AppData\\Roaming\\nltk_data...\n",
      "[nltk_data]   Package punkt is already up-to-date!\n"
     ]
    }
   ],
   "source": [
    "#import the libraries\n",
    "import numpy as np\n",
    "import pandas as pd\n",
    "import os\n",
    "import re\n",
    "import nltk\n",
    "nltk.download('stopwords')\n",
    "nltk.download('punkt')\n",
    "from nltk.corpus import stopwords\n",
    "STOPWORDS = set(stopwords.words('english'))\n",
    "import matplotlib.pyplot as plt\n",
    "from sklearn.feature_extraction.text import CountVectorizer,TfidfVectorizer\n",
    "from sklearn.model_selection import train_test_split\n",
    "from sklearn.ensemble import RandomForestClassifier\n",
    "from sklearn.linear_model import LogisticRegression\n",
    "from sklearn.svm import LinearSVC\n",
    "from sklearn.naive_bayes import MultinomialNB\n",
    "from sklearn.metrics import classification_report, confusion_matrix, accuracy_score\n",
    "from sklearn.metrics import roc_auc_score\n",
    "from nltk import sent_tokenize, word_tokenize\n",
    "import matplotlib.pyplot as plt\n",
    "import seaborn as sns\n",
    "%matplotlib inline\n",
    "     \n",
    "import warnings\n",
    "warnings.filterwarnings('ignore')"
   ]
  },
  {
   "cell_type": "markdown",
   "id": "6471839e",
   "metadata": {},
   "source": [
    "<a id=\"data\"></a>\n",
    "### Step 2 : Load the input data "
   ]
  },
  {
   "cell_type": "code",
   "execution_count": 7,
   "id": "9bd2bb3e",
   "metadata": {},
   "outputs": [
    {
     "data": {
      "text/html": [
       "<div>\n",
       "<style scoped>\n",
       "    .dataframe tbody tr th:only-of-type {\n",
       "        vertical-align: middle;\n",
       "    }\n",
       "\n",
       "    .dataframe tbody tr th {\n",
       "        vertical-align: top;\n",
       "    }\n",
       "\n",
       "    .dataframe thead th {\n",
       "        text-align: right;\n",
       "    }\n",
       "</style>\n",
       "<table border=\"1\" class=\"dataframe\">\n",
       "  <thead>\n",
       "    <tr style=\"text-align: right;\">\n",
       "      <th></th>\n",
       "      <th>Review</th>\n",
       "      <th>Recommend</th>\n",
       "    </tr>\n",
       "  </thead>\n",
       "  <tbody>\n",
       "    <tr>\n",
       "      <th>0</th>\n",
       "      <td>Absolutely wonderful - silky and sexy and comf...</td>\n",
       "      <td>1</td>\n",
       "    </tr>\n",
       "    <tr>\n",
       "      <th>1</th>\n",
       "      <td>Love this dress!  it's sooo pretty.  i happene...</td>\n",
       "      <td>1</td>\n",
       "    </tr>\n",
       "    <tr>\n",
       "      <th>2</th>\n",
       "      <td>I had such high hopes for this dress and reall...</td>\n",
       "      <td>0</td>\n",
       "    </tr>\n",
       "    <tr>\n",
       "      <th>3</th>\n",
       "      <td>I love, love, love this jumpsuit. it's fun, fl...</td>\n",
       "      <td>1</td>\n",
       "    </tr>\n",
       "    <tr>\n",
       "      <th>4</th>\n",
       "      <td>This shirt is very flattering to all due to th...</td>\n",
       "      <td>1</td>\n",
       "    </tr>\n",
       "  </tbody>\n",
       "</table>\n",
       "</div>"
      ],
      "text/plain": [
       "                                              Review  Recommend\n",
       "0  Absolutely wonderful - silky and sexy and comf...          1\n",
       "1  Love this dress!  it's sooo pretty.  i happene...          1\n",
       "2  I had such high hopes for this dress and reall...          0\n",
       "3  I love, love, love this jumpsuit. it's fun, fl...          1\n",
       "4  This shirt is very flattering to all due to th...          1"
      ]
     },
     "execution_count": 7,
     "metadata": {},
     "output_type": "execute_result"
    }
   ],
   "source": [
    "#read the input data\n",
    "input_data = pd.read_csv('dataset.csv')\n",
    "#scan the dataframe\n",
    "input_data.head()"
   ]
  },
  {
   "cell_type": "code",
   "execution_count": 8,
   "id": "b380b5b3",
   "metadata": {},
   "outputs": [
    {
     "name": "stdout",
     "output_type": "stream",
     "text": [
      "<class 'pandas.core.frame.DataFrame'>\n",
      "RangeIndex: 23486 entries, 0 to 23485\n",
      "Data columns (total 2 columns):\n",
      " #   Column     Non-Null Count  Dtype \n",
      "---  ------     --------------  ----- \n",
      " 0   Review     22641 non-null  object\n",
      " 1   Recommend  23486 non-null  int64 \n",
      "dtypes: int64(1), object(1)\n",
      "memory usage: 367.1+ KB\n"
     ]
    }
   ],
   "source": [
    "#convert the object datatype type to string\n",
    "input_data.info()\n",
    "input_data['Review']=input_data['Review'].astype('str') "
   ]
  },
  {
   "cell_type": "code",
   "execution_count": 9,
   "id": "b1f678b0",
   "metadata": {},
   "outputs": [
    {
     "data": {
      "text/plain": [
       "(23486, 2)"
      ]
     },
     "execution_count": 9,
     "metadata": {},
     "output_type": "execute_result"
    }
   ],
   "source": [
    "#check the size of the dataframe\n",
    "input_data.shape"
   ]
  },
  {
   "cell_type": "code",
   "execution_count": 10,
   "id": "bbb4c4c1",
   "metadata": {},
   "outputs": [
    {
     "data": {
      "text/plain": [
       "Recommend\n",
       "1    19314\n",
       "0     4172\n",
       "Name: count, dtype: int64"
      ]
     },
     "execution_count": 10,
     "metadata": {},
     "output_type": "execute_result"
    }
   ],
   "source": [
    "#check the target class distribution in the dataset\n",
    "input_data['Recommend'].value_counts()"
   ]
  },
  {
   "cell_type": "markdown",
   "id": "58dbd901",
   "metadata": {},
   "source": [
    "As we can see there are around 23K+ reviews in the dataset. Each review has a corresponding recommendation value and there are more recommended products compared to non-recommended"
   ]
  },
  {
   "cell_type": "markdown",
   "id": "b8618ae4",
   "metadata": {},
   "source": [
    "<a id=\"eda\"></a>\n",
    "### Step 3 : Explore the data "
   ]
  },
  {
   "cell_type": "code",
   "execution_count": 13,
   "id": "dfd3a29c",
   "metadata": {},
   "outputs": [
    {
     "data": {
      "image/png": "[encoded data removed]",
      "text/plain": [
       "<Figure size 1000x500 with 1 Axes>"
      ]
     },
     "metadata": {},
     "output_type": "display_data"
    }
   ],
   "source": [
    "#check for the target class counts \n",
    "label_dist = input_data['Recommend'].value_counts().to_dict()\n",
    "fig = plt.figure(figsize = (10, 5))\n",
    "ax = plt.bar(label_dist.keys(), label_dist.values(), width=0.25)\n",
    "plt.xticks([0,1])\n",
    "plt.xlabel(\"Recommendation\")\n",
    "plt.ylabel(\"Review Count\")\n",
    "plt.show()"
   ]
  },
  {
   "cell_type": "code",
   "execution_count": 14,
   "id": "c8dca6a2",
   "metadata": {},
   "outputs": [
    {
     "name": "stdout",
     "output_type": "stream",
     "text": [
      "Review       0\n",
      "Recommend    0\n",
      "dtype: int64\n"
     ]
    }
   ],
   "source": [
    "#check for any empty rows \n",
    "print(input_data.isnull().sum())"
   ]
  },
  {
   "cell_type": "code",
   "execution_count": 15,
   "id": "f4dc28d1",
   "metadata": {},
   "outputs": [
    {
     "data": {
      "text/plain": [
       "851"
      ]
     },
     "execution_count": 15,
     "metadata": {},
     "output_type": "execute_result"
    }
   ],
   "source": [
    "#check for any duplicate reviews \n",
    "len(input_data['Review'])-len(input_data['Review'].drop_duplicates())\n"
   ]
  },
  {
   "cell_type": "markdown",
   "id": "76b1f62e",
   "metadata": {},
   "source": [
    "As we can observe there are 851 reviews which seem to be duplicate values. We will drop these from the dataframe."
   ]
  },
  {
   "cell_type": "code",
   "execution_count": 17,
   "id": "a8a5a882",
   "metadata": {},
   "outputs": [
    {
     "data": {
      "text/plain": [
       "(22635, 2)"
      ]
     },
     "execution_count": 17,
     "metadata": {},
     "output_type": "execute_result"
    }
   ],
   "source": [
    "#drop the repeated reviews \n",
    "input_data=input_data.drop_duplicates(subset='Review', keep=\"last\")\n",
    "input_data.shape"
   ]
  },
  {
   "cell_type": "markdown",
   "id": "6fc9df5a",
   "metadata": {},
   "source": [
    "We can now check the size of each review to establish if there is any relation between the recommendation and length of the reviews "
   ]
  },
  {
   "cell_type": "code",
   "execution_count": 19,
   "id": "deb85de1",
   "metadata": {},
   "outputs": [],
   "source": [
    "#check for the length of reviews \n",
    "input_data['length']=input_data['Review'].apply(lambda x: len(x.split(' ')))"
   ]
  },
  {
   "cell_type": "code",
   "execution_count": 20,
   "id": "c936f159",
   "metadata": {},
   "outputs": [
    {
     "data": {
      "text/html": [
       "<div>\n",
       "<style scoped>\n",
       "    .dataframe tbody tr th:only-of-type {\n",
       "        vertical-align: middle;\n",
       "    }\n",
       "\n",
       "    .dataframe tbody tr th {\n",
       "        vertical-align: top;\n",
       "    }\n",
       "\n",
       "    .dataframe thead th {\n",
       "        text-align: right;\n",
       "    }\n",
       "</style>\n",
       "<table border=\"1\" class=\"dataframe\">\n",
       "  <thead>\n",
       "    <tr style=\"text-align: right;\">\n",
       "      <th></th>\n",
       "      <th>Review</th>\n",
       "      <th>Recommend</th>\n",
       "      <th>length</th>\n",
       "    </tr>\n",
       "  </thead>\n",
       "  <tbody>\n",
       "    <tr>\n",
       "      <th>17912</th>\n",
       "      <td>Cozy and beautiful - everything dreamy sleep p...</td>\n",
       "      <td>1</td>\n",
       "      <td>20</td>\n",
       "    </tr>\n",
       "    <tr>\n",
       "      <th>11147</th>\n",
       "      <td>I ordered this dress online in 8 p in the oran...</td>\n",
       "      <td>1</td>\n",
       "      <td>101</td>\n",
       "    </tr>\n",
       "    <tr>\n",
       "      <th>19256</th>\n",
       "      <td>This skirt is perfect. i'm a size 10 and i'm 4...</td>\n",
       "      <td>1</td>\n",
       "      <td>71</td>\n",
       "    </tr>\n",
       "    <tr>\n",
       "      <th>14980</th>\n",
       "      <td>I instantly fell in love with the graphic patt...</td>\n",
       "      <td>1</td>\n",
       "      <td>90</td>\n",
       "    </tr>\n",
       "    <tr>\n",
       "      <th>8524</th>\n",
       "      <td>I loved the fit, color and style, but the fabr...</td>\n",
       "      <td>0</td>\n",
       "      <td>27</td>\n",
       "    </tr>\n",
       "    <tr>\n",
       "      <th>1719</th>\n",
       "      <td>Classic and stylish. trendy with the blocking....</td>\n",
       "      <td>1</td>\n",
       "      <td>23</td>\n",
       "    </tr>\n",
       "    <tr>\n",
       "      <th>18728</th>\n",
       "      <td>The quality of the fabric is good, but the fit...</td>\n",
       "      <td>0</td>\n",
       "      <td>18</td>\n",
       "    </tr>\n",
       "    <tr>\n",
       "      <th>20753</th>\n",
       "      <td>I was at my local retailer this weekend, needi...</td>\n",
       "      <td>1</td>\n",
       "      <td>97</td>\n",
       "    </tr>\n",
       "    <tr>\n",
       "      <th>19688</th>\n",
       "      <td>The colors in this skirt are gorgeous. a super...</td>\n",
       "      <td>1</td>\n",
       "      <td>75</td>\n",
       "    </tr>\n",
       "    <tr>\n",
       "      <th>3032</th>\n",
       "      <td>I am 5'4\", 100lbs, petite frame, i bought this...</td>\n",
       "      <td>1</td>\n",
       "      <td>94</td>\n",
       "    </tr>\n",
       "  </tbody>\n",
       "</table>\n",
       "</div>"
      ],
      "text/plain": [
       "                                                  Review  Recommend  length\n",
       "17912  Cozy and beautiful - everything dreamy sleep p...          1      20\n",
       "11147  I ordered this dress online in 8 p in the oran...          1     101\n",
       "19256  This skirt is perfect. i'm a size 10 and i'm 4...          1      71\n",
       "14980  I instantly fell in love with the graphic patt...          1      90\n",
       "8524   I loved the fit, color and style, but the fabr...          0      27\n",
       "1719   Classic and stylish. trendy with the blocking....          1      23\n",
       "18728  The quality of the fabric is good, but the fit...          0      18\n",
       "20753  I was at my local retailer this weekend, needi...          1      97\n",
       "19688  The colors in this skirt are gorgeous. a super...          1      75\n",
       "3032   I am 5'4\", 100lbs, petite frame, i bought this...          1      94"
      ]
     },
     "execution_count": 20,
     "metadata": {},
     "output_type": "execute_result"
    }
   ],
   "source": [
    "#validate the newly added column in the dataframe \n",
    "input_data.sample(10)"
   ]
  },
  {
   "cell_type": "code",
   "execution_count": 21,
   "id": "989ae86f",
   "metadata": {},
   "outputs": [
    {
     "name": "stdout",
     "output_type": "stream",
     "text": [
      "60\n",
      "62\n"
     ]
    }
   ],
   "source": [
    "#avg. length for recommended and non recommended review \n",
    "print(round(input_data[input_data['Recommend']== 1 ]['length'].mean()))\n",
    "print(round(input_data[input_data['Recommend']== 0]['length'].mean()))"
   ]
  },
  {
   "cell_type": "markdown",
   "id": "25f6c641",
   "metadata": {},
   "source": [
    "Seems like there isn't much of a difference between size of the customer review in the dataset "
   ]
  },
  {
   "cell_type": "markdown",
   "id": "03fc5cd4",
   "metadata": {},
   "source": [
    "<a id=\"prep\"></a>\n",
    "### Step 4 : Data Preperation"
   ]
  },
  {
   "cell_type": "markdown",
   "id": "1e09e77d",
   "metadata": {},
   "source": [
    "Since the reviews are raw texts and contains multiple symbols, punctuations , hastags which might not be very useful for the modeling . \n",
    "We will use a helper function to clean the text and prepare it for modeling purpose."
   ]
  },
  {
   "cell_type": "code",
   "execution_count": 25,
   "id": "83bb1508",
   "metadata": {},
   "outputs": [],
   "source": [
    "# helper function to remove stopwords\n",
    "input_data[\"Review_new\"]=input_data[\"Review\"].apply(lambda x: ' '.join([word for word in x.split() if word not in (STOPWORDS)]))"
   ]
  },
  {
   "cell_type": "code",
   "execution_count": 26,
   "id": "56ad736b",
   "metadata": {},
   "outputs": [],
   "source": [
    "#helper function for review cleaning \n",
    "def text_clean(review):\n",
    "    #lowercase the review\n",
    "    review=review.lower()\n",
    "    #remove punctuation \n",
    "    review = re.sub('[()!?]', ' ', review)\n",
    "    review = re.sub('\\[.*?\\]',' ', review)\n",
    "    #remove non alphanumeric occurences\n",
    "    review = re.sub(\"[^a-z0-9]\",\" \", review)\n",
    "    #remove the @mention\n",
    "    review = re.sub(\"@[A-Za-z0-9_]+\",\"\", review)\n",
    "    #remove the hastags\n",
    "    review = re.sub(\"#[A-Za-z0-9_]+\",\"\", review)\n",
    "    #remove any links \n",
    "    review = re.sub(r\"http\\S+\", \"\", review)\n",
    "    review = re.sub(r\"www.\\S+\", \"\", review)\n",
    "    return review"
   ]
  },
  {
   "cell_type": "code",
   "execution_count": 27,
   "id": "69b98afd",
   "metadata": {},
   "outputs": [],
   "source": [
    "#apply the function on the review column \n",
    "input_data['clean_review'] = input_data['Review_new'].apply(text_clean)"
   ]
  },
  {
   "cell_type": "code",
   "execution_count": 28,
   "id": "ec41234b",
   "metadata": {},
   "outputs": [
    {
     "data": {
      "text/html": [
       "<div>\n",
       "<style scoped>\n",
       "    .dataframe tbody tr th:only-of-type {\n",
       "        vertical-align: middle;\n",
       "    }\n",
       "\n",
       "    .dataframe tbody tr th {\n",
       "        vertical-align: top;\n",
       "    }\n",
       "\n",
       "    .dataframe thead th {\n",
       "        text-align: right;\n",
       "    }\n",
       "</style>\n",
       "<table border=\"1\" class=\"dataframe\">\n",
       "  <thead>\n",
       "    <tr style=\"text-align: right;\">\n",
       "      <th></th>\n",
       "      <th>Review</th>\n",
       "      <th>clean_review</th>\n",
       "    </tr>\n",
       "  </thead>\n",
       "  <tbody>\n",
       "    <tr>\n",
       "      <th>1824</th>\n",
       "      <td>Glad i got this on sale. it is more yellow tha...</td>\n",
       "      <td>glad got sale  yellow photo   short  also heav...</td>\n",
       "    </tr>\n",
       "    <tr>\n",
       "      <th>16146</th>\n",
       "      <td>It is my favorite piece in my closet right now...</td>\n",
       "      <td>it favorite piece closet right now  cute  feel...</td>\n",
       "    </tr>\n",
       "    <tr>\n",
       "      <th>2988</th>\n",
       "      <td>I was so excited to find this shirt on sale at...</td>\n",
       "      <td>i excited find shirt sale local retailer store...</td>\n",
       "    </tr>\n",
       "    <tr>\n",
       "      <th>16361</th>\n",
       "      <td>I love ag jeans to begin with but even still s...</td>\n",
       "      <td>i love ag jeans begin even still sometimes cer...</td>\n",
       "    </tr>\n",
       "    <tr>\n",
       "      <th>14711</th>\n",
       "      <td>The tank is very structured, thick yet breatha...</td>\n",
       "      <td>the tank structured  thick yet breathable  see...</td>\n",
       "    </tr>\n",
       "    <tr>\n",
       "      <th>5097</th>\n",
       "      <td>I am a big fan of maeve tops. i love the beadi...</td>\n",
       "      <td>i big fan maeve tops  love beading structure t...</td>\n",
       "    </tr>\n",
       "    <tr>\n",
       "      <th>16628</th>\n",
       "      <td>Beautiful sweater!! i love the color and the f...</td>\n",
       "      <td>beautiful sweater   love color fit  cowl neck ...</td>\n",
       "    </tr>\n",
       "    <tr>\n",
       "      <th>4938</th>\n",
       "      <td>This top is so darling, the different textures...</td>\n",
       "      <td>this top darling  different textures elegant r...</td>\n",
       "    </tr>\n",
       "    <tr>\n",
       "      <th>902</th>\n",
       "      <td>This top is super cute, however the bottom hem...</td>\n",
       "      <td>this top super cute  however bottom hem frayed...</td>\n",
       "    </tr>\n",
       "    <tr>\n",
       "      <th>2434</th>\n",
       "      <td>This dress is definitely light weight and it r...</td>\n",
       "      <td>this dress definitely light weight requires sl...</td>\n",
       "    </tr>\n",
       "  </tbody>\n",
       "</table>\n",
       "</div>"
      ],
      "text/plain": [
       "                                                  Review  \\\n",
       "1824   Glad i got this on sale. it is more yellow tha...   \n",
       "16146  It is my favorite piece in my closet right now...   \n",
       "2988   I was so excited to find this shirt on sale at...   \n",
       "16361  I love ag jeans to begin with but even still s...   \n",
       "14711  The tank is very structured, thick yet breatha...   \n",
       "5097   I am a big fan of maeve tops. i love the beadi...   \n",
       "16628  Beautiful sweater!! i love the color and the f...   \n",
       "4938   This top is so darling, the different textures...   \n",
       "902    This top is super cute, however the bottom hem...   \n",
       "2434   This dress is definitely light weight and it r...   \n",
       "\n",
       "                                            clean_review  \n",
       "1824   glad got sale  yellow photo   short  also heav...  \n",
       "16146  it favorite piece closet right now  cute  feel...  \n",
       "2988   i excited find shirt sale local retailer store...  \n",
       "16361  i love ag jeans begin even still sometimes cer...  \n",
       "14711  the tank structured  thick yet breathable  see...  \n",
       "5097   i big fan maeve tops  love beading structure t...  \n",
       "16628  beautiful sweater   love color fit  cowl neck ...  \n",
       "4938   this top darling  different textures elegant r...  \n",
       "902    this top super cute  however bottom hem frayed...  \n",
       "2434   this dress definitely light weight requires sl...  "
      ]
     },
     "execution_count": 28,
     "metadata": {},
     "output_type": "execute_result"
    }
   ],
   "source": [
    "#validate if the reviews are clean\n",
    "input_data[['Review','clean_review']].sample(10)"
   ]
  },
  {
   "cell_type": "markdown",
   "id": "997c35c2",
   "metadata": {},
   "source": [
    "We can now observe that each review looks much cleaner and neat post the data cleansing prcoess "
   ]
  },
  {
   "cell_type": "code",
   "execution_count": 30,
   "id": "c6db154d",
   "metadata": {},
   "outputs": [],
   "source": [
    "# Calculate updated length after removing the stopwords and cleaning review\n",
    "input_data['new_length']=input_data['clean_review'].apply(lambda x: len(x.split(\" \")))"
   ]
  },
  {
   "cell_type": "code",
   "execution_count": 31,
   "id": "756b73ec",
   "metadata": {},
   "outputs": [
    {
     "name": "stdout",
     "output_type": "stream",
     "text": [
      "41\n",
      "41\n"
     ]
    }
   ],
   "source": [
    "#avg. length of the review for recommended and non-recommended labels \n",
    "print(round(input_data[input_data['Recommend']== 1]['new_length'].mean()))\n",
    "print(round(input_data[input_data['Recommend']== 0]['new_length'].mean()))\n"
   ]
  },
  {
   "cell_type": "markdown",
   "id": "d322f1b2",
   "metadata": {},
   "source": [
    "Post the data cleaning, the avg. length of the review becomes the same "
   ]
  },
  {
   "cell_type": "markdown",
   "id": "07a31bc3",
   "metadata": {},
   "source": [
    "<a id=\"split\"></a>\n",
    "### Step 5 : Data split "
   ]
  },
  {
   "cell_type": "markdown",
   "id": "dc0fdded",
   "metadata": {},
   "source": [
    "Now we split the 23K+ data into training and test dataset. One thing to note is to split the data based on target class to maintain the class balance"
   ]
  },
  {
   "cell_type": "code",
   "execution_count": 35,
   "id": "394e49d6",
   "metadata": {},
   "outputs": [],
   "source": [
    "#Sentiment Classifier\n",
    "#split the data into training and test set with balanced split based on target class\n",
    "X_train, X_test, y_train, y_test = train_test_split(input_data[\"clean_review\"],\n",
    "                                                    input_data[\"Recommend\"],test_size=0.3,\n",
    "                                                    stratify=input_data['Recommend'])"
   ]
  },
  {
   "cell_type": "code",
   "execution_count": 36,
   "id": "f16f1a59",
   "metadata": {},
   "outputs": [
    {
     "name": "stdout",
     "output_type": "stream",
     "text": [
      "15844 6791\n"
     ]
    }
   ],
   "source": [
    "#check the shape of train and test data \n",
    "print(X_train.shape[0],X_test.shape[0])"
   ]
  },
  {
   "cell_type": "code",
   "execution_count": 37,
   "id": "3697a792",
   "metadata": {},
   "outputs": [
    {
     "name": "stdout",
     "output_type": "stream",
     "text": [
      "Recommend\n",
      "1    12974\n",
      "0     2870\n",
      "Name: count, dtype: int64\n"
     ]
    }
   ],
   "source": [
    "#check the class balance in train data \n",
    "print(y_train.value_counts())"
   ]
  },
  {
   "cell_type": "code",
   "execution_count": 38,
   "id": "125e74de",
   "metadata": {},
   "outputs": [
    {
     "name": "stdout",
     "output_type": "stream",
     "text": [
      "Recommend\n",
      "1    5561\n",
      "0    1230\n",
      "Name: count, dtype: int64\n"
     ]
    }
   ],
   "source": [
    "#check the target class balance in test data \n",
    "print(y_test.value_counts())"
   ]
  },
  {
   "cell_type": "markdown",
   "id": "40af9940",
   "metadata": {},
   "source": [
    "<a id=\"model\"></a>\n",
    "### Step 6  : ML Modeling and Performance evaluation"
   ]
  },
  {
   "cell_type": "markdown",
   "id": "71f6f02a",
   "metadata": {},
   "source": [
    "After splitting the data , we move on to the modelling part. Given we are doing text classification, we will convert the text data using two approaches :\n",
    "1. Count Vectoriser \n",
    "2. TF-IDF \n"
   ]
  },
  {
   "cell_type": "markdown",
   "id": "3fa911f1",
   "metadata": {},
   "source": [
    "<a id=\"cv\"></a>\n",
    "#### Using Count vectorizer"
   ]
  },
  {
   "cell_type": "code",
   "execution_count": 42,
   "id": "37043714",
   "metadata": {},
   "outputs": [],
   "source": [
    "#Build a list of models to be trained and tested\n",
    "modelclasses = [\n",
    "    [\"Logistic Regression\", LogisticRegression],\n",
    "    [\"MNB\", MultinomialNB],\n",
    "    [\"Random Forest\", RandomForestClassifier]]"
   ]
  },
  {
   "cell_type": "code",
   "execution_count": 43,
   "id": "c2fb0a9b",
   "metadata": {},
   "outputs": [],
   "source": [
    "#Use the count vectoriser to convert the text data to numerical form\n",
    "vectorizer = CountVectorizer(token_pattern=r'\\b\\w+\\b')\n",
    "X_train_vec = vectorizer.fit_transform(X_train)\n",
    "X_test_vec = vectorizer.transform(X_test)\n",
    "\n",
    "#create an empty dataframe to log performance of the model based on score and auc\n",
    "results = pd.DataFrame(columns = ['modelname','score','auc'])\n",
    "\n",
    "for modelname, Model in modelclasses:\n",
    "    model = Model()\n",
    "    model.fit(X_train_vec, y_train)\n",
    "    score = np.round(model.score(X_test_vec, y_test),2)\n",
    "    auc=np.round(roc_auc_score(y_test, model.predict_proba(X_test_vec)[:, 1]),2)\n",
    "    \n",
    "    results.loc[len(results)] = [model, score, auc]\n",
    " "
   ]
  },
  {
   "cell_type": "code",
   "execution_count": 44,
   "id": "e9d9475b",
   "metadata": {},
   "outputs": [
    {
     "data": {
      "text/html": [
       "<div>\n",
       "<style scoped>\n",
       "    .dataframe tbody tr th:only-of-type {\n",
       "        vertical-align: middle;\n",
       "    }\n",
       "\n",
       "    .dataframe tbody tr th {\n",
       "        vertical-align: top;\n",
       "    }\n",
       "\n",
       "    .dataframe thead th {\n",
       "        text-align: right;\n",
       "    }\n",
       "</style>\n",
       "<table border=\"1\" class=\"dataframe\">\n",
       "  <thead>\n",
       "    <tr style=\"text-align: right;\">\n",
       "      <th></th>\n",
       "      <th>modelname</th>\n",
       "      <th>score</th>\n",
       "      <th>auc</th>\n",
       "    </tr>\n",
       "  </thead>\n",
       "  <tbody>\n",
       "    <tr>\n",
       "      <th>0</th>\n",
       "      <td>LogisticRegression()</td>\n",
       "      <td>0.89</td>\n",
       "      <td>0.92</td>\n",
       "    </tr>\n",
       "    <tr>\n",
       "      <th>1</th>\n",
       "      <td>MultinomialNB()</td>\n",
       "      <td>0.89</td>\n",
       "      <td>0.93</td>\n",
       "    </tr>\n",
       "    <tr>\n",
       "      <th>2</th>\n",
       "      <td>(DecisionTreeClassifier(max_features='sqrt', r...</td>\n",
       "      <td>0.85</td>\n",
       "      <td>0.91</td>\n",
       "    </tr>\n",
       "  </tbody>\n",
       "</table>\n",
       "</div>"
      ],
      "text/plain": [
       "                                           modelname  score   auc\n",
       "0                               LogisticRegression()   0.89  0.92\n",
       "1                                    MultinomialNB()   0.89  0.93\n",
       "2  (DecisionTreeClassifier(max_features='sqrt', r...   0.85  0.91"
      ]
     },
     "execution_count": 44,
     "metadata": {},
     "output_type": "execute_result"
    }
   ],
   "source": [
    "# Model performance \n",
    "results.head(5)"
   ]
  },
  {
   "cell_type": "markdown",
   "id": "d59e6204",
   "metadata": {},
   "source": [
    "As we can observe , the Multinomial Naive Baysian performs the best out of all the models using count vectoriser "
   ]
  },
  {
   "cell_type": "markdown",
   "id": "5bf8f5a3",
   "metadata": {},
   "source": [
    "<a id=\"tfidf\"></a>\n",
    "#### Using TF-IDF"
   ]
  },
  {
   "cell_type": "code",
   "execution_count": 47,
   "id": "ddbd1283",
   "metadata": {},
   "outputs": [],
   "source": [
    "#Use the tf-idf vectoriser to convert the text data to numerical form\n",
    "vectorizertfidf = TfidfVectorizer(token_pattern=r'\\b\\w+\\b')\n",
    "X_train_vec = vectorizertfidf.fit_transform(X_train)\n",
    "X_test_vec = vectorizertfidf.transform(X_test)\n",
    "results_tf = pd.DataFrame(columns = ['modelname','score','auc'])\n",
    "for modelname, Model in modelclasses:\n",
    "    model = Model()\n",
    "    model.fit(X_train_vec, y_train)\n",
    "    score = np.round(model.score(X_test_vec, y_test),2)\n",
    "    auc=np.round(roc_auc_score(y_test, model.predict_proba(X_test_vec)[:, 1]),2)\n",
    "    results_tf.loc[len(results_tf)] = [model, score, auc]\n"
   ]
  },
  {
   "cell_type": "code",
   "execution_count": 48,
   "id": "8384ef05",
   "metadata": {},
   "outputs": [
    {
     "data": {
      "text/html": [
       "<div>\n",
       "<style scoped>\n",
       "    .dataframe tbody tr th:only-of-type {\n",
       "        vertical-align: middle;\n",
       "    }\n",
       "\n",
       "    .dataframe tbody tr th {\n",
       "        vertical-align: top;\n",
       "    }\n",
       "\n",
       "    .dataframe thead th {\n",
       "        text-align: right;\n",
       "    }\n",
       "</style>\n",
       "<table border=\"1\" class=\"dataframe\">\n",
       "  <thead>\n",
       "    <tr style=\"text-align: right;\">\n",
       "      <th></th>\n",
       "      <th>modelname</th>\n",
       "      <th>score</th>\n",
       "      <th>auc</th>\n",
       "    </tr>\n",
       "  </thead>\n",
       "  <tbody>\n",
       "    <tr>\n",
       "      <th>0</th>\n",
       "      <td>LogisticRegression()</td>\n",
       "      <td>0.89</td>\n",
       "      <td>0.94</td>\n",
       "    </tr>\n",
       "    <tr>\n",
       "      <th>1</th>\n",
       "      <td>MultinomialNB()</td>\n",
       "      <td>0.82</td>\n",
       "      <td>0.91</td>\n",
       "    </tr>\n",
       "    <tr>\n",
       "      <th>2</th>\n",
       "      <td>(DecisionTreeClassifier(max_features='sqrt', r...</td>\n",
       "      <td>0.85</td>\n",
       "      <td>0.91</td>\n",
       "    </tr>\n",
       "  </tbody>\n",
       "</table>\n",
       "</div>"
      ],
      "text/plain": [
       "                                           modelname  score   auc\n",
       "0                               LogisticRegression()   0.89  0.94\n",
       "1                                    MultinomialNB()   0.82  0.91\n",
       "2  (DecisionTreeClassifier(max_features='sqrt', r...   0.85  0.91"
      ]
     },
     "execution_count": 48,
     "metadata": {},
     "output_type": "execute_result"
    }
   ],
   "source": [
    "#model comparison \n",
    "results_tf.head(5)"
   ]
  },
  {
   "cell_type": "markdown",
   "id": "049a8420",
   "metadata": {},
   "source": [
    "Using the tf-idf vectoriser, we observe Logistic Regression outperforming the other models in terms of accuracy and auc."
   ]
  }
 ],
 "metadata": {
  "kernelspec": {
   "display_name": "Python 3 (ipykernel)",
   "language": "python",
   "name": "python3"
  },
  "language_info": {
   "codemirror_mode": {
    "name": "ipython",
    "version": 3
   },
   "file_extension": ".py",
   "mimetype": "text/x-python",
   "name": "python",
   "nbconvert_exporter": "python",
   "pygments_lexer": "ipython3",
   "version": "3.11.7"
  }
 },
 "nbformat": 4,
 "nbformat_minor": 5
}
